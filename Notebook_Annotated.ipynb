{
 "cells": [
  {
   "cell_type": "markdown",
   "id": "de7eb03c",
   "metadata": {},
   "source": [
    "Step 1: Understand the Dataset"
   ]
  },
  {
   "cell_type": "markdown",
   "id": "e6a606fb",
   "metadata": {},
   "source": [
    "Train.csv – Contains image IDs and their corresponding labels (0 = not affected, 1 = affected).\n",
    "\n",
    "Test.csv – Contains image IDs for which you need to predict labels.\n",
    "\n",
    "SampleSubmission.csv – Shows the expected format for your final submission.\n",
    "\n",
    "Images.zip – Contains all the image files (likely for both training and test data)."
   ]
  },
  {
   "cell_type": "markdown",
   "id": "5d520849",
   "metadata": {},
   "source": [
    "### Step 2: Install Required Packages\n",
    "Install necessary Python packages."
   ]
  },
  {
   "cell_type": "code",
   "execution_count": 30,
   "id": "58674582",
   "metadata": {},
   "outputs": [
    {
     "name": "stdout",
     "output_type": "stream",
     "text": [
      "Requirement already satisfied: opencv-python in c:\\users\\admin\\anaconda3\\envs\\learn-env\\lib\\site-packages (4.11.0.86)\n",
      "Requirement already satisfied: numpy>=1.17.3; python_version >= \"3.8\" in c:\\users\\admin\\anaconda3\\envs\\learn-env\\lib\\site-packages (from opencv-python) (1.23.0)\n",
      "Requirement already satisfied: numpy==1.23 in c:\\users\\admin\\anaconda3\\envs\\learn-env\\lib\\site-packages (1.23.0)\n"
     ]
    }
   ],
   "source": [
    "!pip install opencv-python\n",
    "!pip install numpy==1.23"
   ]
  },
  {
   "cell_type": "markdown",
   "id": "e33d34b2",
   "metadata": {},
   "source": [
    "### Step 3: Import Libraries\n",
    "Import all required libraries for data processing, modeling, and visualization."
   ]
  },
  {
   "cell_type": "code",
   "execution_count": 31,
   "id": "7989ce38",
   "metadata": {},
   "outputs": [],
   "source": [
    "import os\n",
    "import cv2\n",
    "import numpy as np\n",
    "import pandas as pd\n",
    "import matplotlib.pyplot as plt\n",
    "from sklearn.model_selection import train_test_split\n",
    "from tensorflow.keras.utils import to_categorical\n",
    "from tensorflow.keras.preprocessing.image import ImageDataGenerator\n",
    "from tensorflow.keras.models import Sequential\n",
    "from tensorflow.keras.layers import Conv2D, MaxPooling2D, Flatten, Dense, Dropout\n",
    "\n"
   ]
  },
  {
   "cell_type": "markdown",
   "id": "7931d84f",
   "metadata": {},
   "source": [
    "### Step 4: Load Training Data\n",
    "Load the training CSV file which contains image IDs and their corresponding labels."
   ]
  },
  {
   "cell_type": "code",
   "execution_count": 32,
   "id": "7ed9e681",
   "metadata": {},
   "outputs": [
    {
     "name": "stdout",
     "output_type": "stream",
     "text": [
      "Index(['Image_id', 'Label'], dtype='object')\n"
     ]
    }
   ],
   "source": [
    "train_df = pd.read_csv(\"Data/Train.csv\")\n",
    "print(train_df.columns)  # Fix column case sensitivity\n"
   ]
  },
  {
   "cell_type": "markdown",
   "id": "c65c31d2",
   "metadata": {},
   "source": [
    "### Step 5: Preprocess Images\n",
    "Load and preprocess images from the directory. Resize them and convert to arrays."
   ]
  },
  {
   "cell_type": "code",
   "execution_count": 33,
   "id": "d46c6ab4",
   "metadata": {},
   "outputs": [],
   "source": [
    "image_folder = \"Data/Images\"\n",
    "image_size = (128, 128)  # You can change this depending on device limitations\n",
    "\n",
    "train_images = []\n",
    "train_labels = []\n",
    "\n",
    "for i, row in train_df.iterrows():\n",
    "    image_id = row['Image_id']  # Already has .jpg\n",
    "    label = row['Label']\n",
    "    \n",
    "    image_path = os.path.join(image_folder, image_id)\n",
    "\n",
    "    if os.path.exists(image_path):\n",
    "        img = cv2.imread(image_path)\n",
    "        img = cv2.resize(img, image_size)\n",
    "        train_images.append(img)\n",
    "        train_labels.append(label)\n",
    "    else:\n",
    "        print(f\"Missing image: {image_path}\")\n"
   ]
  },
  {
   "cell_type": "markdown",
   "id": "da8dca30",
   "metadata": {},
   "source": [
    "### Step 6: Normalize Image Data\n",
    "Normalize image pixel values for model training."
   ]
  },
  {
   "cell_type": "code",
   "execution_count": 34,
   "id": "4508ce90",
   "metadata": {},
   "outputs": [],
   "source": [
    "train_images = np.array(train_images) / 255.0  # Normalize pixel values\n",
    "train_labels = np.array(train_labels)\n"
   ]
  },
  {
   "cell_type": "markdown",
   "id": "c6ca8c5a",
   "metadata": {},
   "source": [
    "### Step 7: Split Data\n",
    "Split the data into training and validation sets."
   ]
  },
  {
   "cell_type": "code",
   "execution_count": 35,
   "id": "8a87067d",
   "metadata": {},
   "outputs": [],
   "source": [
    "X_train, X_val, y_train, y_val = train_test_split(\n",
    "    train_images, train_labels, test_size=0.2, stratify=train_labels, random_state=42\n",
    ")\n"
   ]
  },
  {
   "cell_type": "markdown",
   "id": "2895772c",
   "metadata": {},
   "source": [
    "### Step 8: Define the Model\n",
    "Build a CNN model using Keras Sequential API."
   ]
  },
  {
   "cell_type": "code",
   "execution_count": 36,
   "id": "7151fed8",
   "metadata": {},
   "outputs": [
    {
     "name": "stdout",
     "output_type": "stream",
     "text": [
      "Model: \"sequential_2\"\n",
      "_________________________________________________________________\n",
      "Layer (type)                 Output Shape              Param #   \n",
      "=================================================================\n",
      "conv2d_4 (Conv2D)            (None, 126, 126, 32)      896       \n",
      "_________________________________________________________________\n",
      "max_pooling2d_4 (MaxPooling2 (None, 63, 63, 32)        0         \n",
      "_________________________________________________________________\n",
      "conv2d_5 (Conv2D)            (None, 61, 61, 64)        18496     \n",
      "_________________________________________________________________\n",
      "max_pooling2d_5 (MaxPooling2 (None, 30, 30, 64)        0         \n",
      "_________________________________________________________________\n",
      "flatten_2 (Flatten)          (None, 57600)             0         \n",
      "_________________________________________________________________\n",
      "dense_4 (Dense)              (None, 128)               7372928   \n",
      "_________________________________________________________________\n",
      "dropout_2 (Dropout)          (None, 128)               0         \n",
      "_________________________________________________________________\n",
      "dense_5 (Dense)              (None, 1)                 129       \n",
      "=================================================================\n",
      "Total params: 7,392,449\n",
      "Trainable params: 7,392,449\n",
      "Non-trainable params: 0\n",
      "_________________________________________________________________\n"
     ]
    }
   ],
   "source": [
    "model = Sequential([\n",
    "    Conv2D(32, (3,3), activation='relu', input_shape=(128, 128, 3)),\n",
    "    MaxPooling2D(2,2),\n",
    "    \n",
    "    Conv2D(64, (3,3), activation='relu'),\n",
    "    MaxPooling2D(2,2),\n",
    "    \n",
    "    Flatten(),\n",
    "    Dense(128, activation='relu'),\n",
    "    Dropout(0.5),\n",
    "    Dense(1, activation='sigmoid')  # Binary classification\n",
    "])\n",
    "\n",
    "model.compile(optimizer='adam', loss='binary_crossentropy', metrics=['AUC'])\n",
    "model.summary()\n"
   ]
  },
  {
   "cell_type": "markdown",
   "id": "bf4119cb",
   "metadata": {},
   "source": [
    "### Step 9: Data Augmentation & Training\n",
    "Apply data augmentation and train the model."
   ]
  },
  {
   "cell_type": "code",
   "execution_count": 37,
   "id": "77ce7ca7",
   "metadata": {},
   "outputs": [
    {
     "name": "stdout",
     "output_type": "stream",
     "text": [
      "Epoch 1/10\n",
      "41/41 [==============================] - 8s 204ms/step - loss: 0.6894 - auc: 0.6372 - val_loss: 0.5802 - val_auc: 0.8528\n",
      "Epoch 2/10\n",
      "41/41 [==============================] - 8s 191ms/step - loss: 0.5374 - auc: 0.8094 - val_loss: 0.4143 - val_auc: 0.8963\n",
      "Epoch 3/10\n",
      "41/41 [==============================] - 8s 185ms/step - loss: 0.4342 - auc: 0.8849 - val_loss: 0.3669 - val_auc: 0.9158\n",
      "Epoch 4/10\n",
      "41/41 [==============================] - 8s 190ms/step - loss: 0.4211 - auc: 0.8939 - val_loss: 0.3555 - val_auc: 0.9223\n",
      "Epoch 5/10\n",
      "41/41 [==============================] - 7s 178ms/step - loss: 0.4299 - auc: 0.8870 - val_loss: 0.3125 - val_auc: 0.9399\n",
      "Epoch 6/10\n",
      "41/41 [==============================] - 7s 176ms/step - loss: 0.3618 - auc: 0.9207 - val_loss: 0.3449 - val_auc: 0.9508\n",
      "Epoch 7/10\n",
      "41/41 [==============================] - 7s 179ms/step - loss: 0.3334 - auc: 0.9339 - val_loss: 0.3837 - val_auc: 0.9534\n",
      "Epoch 8/10\n",
      "41/41 [==============================] - 7s 183ms/step - loss: 0.3119 - auc: 0.9410 - val_loss: 0.2608 - val_auc: 0.9587\n",
      "Epoch 9/10\n",
      "41/41 [==============================] - 8s 188ms/step - loss: 0.3009 - auc: 0.9450 - val_loss: 0.3627 - val_auc: 0.9440\n",
      "Epoch 10/10\n",
      "41/41 [==============================] - 7s 177ms/step - loss: 0.2827 - auc: 0.9525 - val_loss: 0.3468 - val_auc: 0.9443\n"
     ]
    }
   ],
   "source": [
    "datagen = ImageDataGenerator(horizontal_flip=True, rotation_range=20, zoom_range=0.2)\n",
    "\n",
    "history = model.fit(\n",
    "    datagen.flow(X_train, y_train, batch_size=32),\n",
    "    validation_data=(X_val, y_val),\n",
    "    epochs=10\n",
    ")\n"
   ]
  },
  {
   "cell_type": "markdown",
   "id": "3f0d01c2",
   "metadata": {},
   "source": [
    "### Step 10: Evaluate the Model\n",
    "Evaluate model performance on the validation set."
   ]
  },
  {
   "cell_type": "code",
   "execution_count": 38,
   "id": "c483d11d",
   "metadata": {},
   "outputs": [
    {
     "name": "stdout",
     "output_type": "stream",
     "text": [
      "11/11 [==============================] - 0s 41ms/step - loss: 0.3468 - auc: 0.9443\n",
      "Validation AUC: 0.9443\n"
     ]
    }
   ],
   "source": [
    "loss, auc = model.evaluate(X_val, y_val)\n",
    "print(f\"Validation AUC: {auc:.4f}\")\n",
    "\n",
    "model.save(\"fall_armyworm_cnn.h5\")\n"
   ]
  },
  {
   "cell_type": "markdown",
   "id": "1f6e906a",
   "metadata": {},
   "source": [
    "### Step 11: Save the Model\n",
    "Save the trained model for future inference."
   ]
  },
  {
   "cell_type": "code",
   "execution_count": 39,
   "id": "87f8cf91",
   "metadata": {},
   "outputs": [],
   "source": [
    "model.save('Data/my_model.h5')\n"
   ]
  },
  {
   "cell_type": "markdown",
   "id": "e75ef689",
   "metadata": {},
   "source": [
    "### Step 12: Load Test Data and Model\n",
    "Prepare the environment for testing and load the saved model."
   ]
  },
  {
   "cell_type": "code",
   "execution_count": 40,
   "id": "0d92ce8d",
   "metadata": {},
   "outputs": [
    {
     "name": "stdout",
     "output_type": "stream",
     "text": [
      "Saved submission.csv with columns ['Image_ID', 'Target']\n"
     ]
    }
   ],
   "source": [
    "import pandas as pd\n",
    "import tensorflow as tf\n",
    "import numpy as np\n",
    "import os\n",
    "\n",
    "# Parameters\n",
    "img_height = 128  # your image size\n",
    "img_width = 128\n",
    "batch_size = 32\n",
    "\n",
    "# Paths\n",
    "test_csv_path = \"Data\\Test.csv\"\n",
    "test_images_folder = \"Data\\Images\"  # update if needed\n",
    "\n",
    "# Load test IDs\n",
    "test_df = pd.read_csv(test_csv_path)\n",
    "image_ids = test_df['Image_id'].tolist()  # this column in your Test.csv\n",
    "\n",
    "def load_and_preprocess_image(image_path):\n",
    "    img = tf.io.read_file(image_path)\n",
    "    img = tf.image.decode_jpeg(img, channels=3)  # or decode_png if needed\n",
    "    img = tf.image.resize(img, [img_height, img_width])\n",
    "    img = img / 255.0\n",
    "    return img\n",
    "\n",
    "# Full image paths\n",
    "test_image_paths = [os.path.join(test_images_folder, img_id) for img_id in image_ids]\n",
    "\n",
    "# Dataset\n",
    "test_ds = tf.data.Dataset.from_tensor_slices(test_image_paths)\n",
    "test_ds = test_ds.map(load_and_preprocess_image).batch(batch_size)\n",
    "\n",
    "# Load model\n",
    "model = tf.keras.models.load_model('Data/my_model.h5')\n",
    "\n",
    "\n",
    "# Predict\n",
    "predictions = model.predict(test_ds)\n",
    "\n",
    "# Prepare submission dataframe with correct columns and formatting\n",
    "submission_df = pd.DataFrame({\n",
    "    'Image_ID': image_ids,\n",
    "    'Target': predictions.flatten()\n",
    "})\n",
    "\n",
    "# Save submission file\n",
    "submission_df.to_csv('submission.csv', index=False)\n",
    "print(\"Saved submission.csv with columns ['Image_ID', 'Target']\")\n"
   ]
  },
  {
   "cell_type": "markdown",
   "id": "1a968333",
   "metadata": {},
   "source": [
    "### Step 13: Visualize Predictions\n",
    "Display prediction results using matplotlib."
   ]
  },
  {
   "cell_type": "code",
   "execution_count": 44,
   "id": "bb853950",
   "metadata": {},
   "outputs": [
    {
     "data": {
      "image/png": "[encoded data removed]",
      "text/plain": [
       "<Figure size 576x360 with 1 Axes>"
      ]
     },
     "metadata": {
      "needs_background": "light"
     },
     "output_type": "display_data"
    }
   ],
   "source": [
    "import matplotlib.pyplot as plt\n",
    "\n",
    "# Assuming 'predictions' is a NumPy array from model.predict(test_ds)\n",
    "plt.figure(figsize=(8, 5))\n",
    "plt.hist(predictions.flatten(), bins=50, color='skyblue', edgecolor='black')\n",
    "plt.title('Prediction Probability Distribution')\n",
    "plt.xlabel('Predicted Probability (Target)')\n",
    "plt.ylabel('Number of Images')\n",
    "plt.grid(True)\n",
    "plt.tight_layout()\n",
    "plt.show()\n",
    "\n"
   ]
  }
 ],
 "metadata": {
  "kernelspec": {
   "display_name": "learn-env",
   "language": "python",
   "name": "python3"
  },
  "language_info": {
   "codemirror_mode": {
    "name": "ipython",
    "version": 3
   },
   "file_extension": ".py",
   "mimetype": "text/x-python",
   "name": "python",
   "nbconvert_exporter": "python",
   "pygments_lexer": "ipython3",
   "version": "3.8.5"
  }
 },
 "nbformat": 4,
 "nbformat_minor": 5
}
